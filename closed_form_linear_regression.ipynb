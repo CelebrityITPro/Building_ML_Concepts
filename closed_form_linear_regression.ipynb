{
 "cells": [
  {
   "cell_type": "markdown",
   "metadata": {},
   "source": [
    "# **Linear Regression from Scratch: Understanding the Mathematics Behind the Model**"
   ]
  },
  {
   "cell_type": "markdown",
   "metadata": {},
   "source": [
    "### **Introduction**"
   ]
  },
  {
   "cell_type": "markdown",
   "metadata": {},
   "source": [
    "**What is Linear Regression?**\n",
    "\n",
    "<span style=\"color: blue;\">*Linear regression is one of the simplest yet most powerful algorithms in machine learning.*</span>\n",
    "\n",
    "It is used to model the relationship between an independent variable (X) and a dependent variable (Y) by fitting a linear equation. \n",
    "\n",
    "If you have ever tried to learn any thing about data science and machine learning models, one concept you must have come across at least once is *\"Linear Regression\"*. I'm sure for those of us that still remember our high school arithmetic, the easiest way to understand it would be to see it as *\"a model that draws the **line of best fit** for a given set of points.\"*\n",
    "\n",
    "Almost all data scientists use Scikit-Learn's `LinearRegression` model, but understanding how it works under the hood is essential for mastering the fundamentals of data science.\n",
    "\n",
    "The main objective of this project is to walk you through understanding the mathematics behind it and implementing linear regression from scratch using the closed-form solution, also known as the normal equation. \n",
    "\n",
    "In this notebook, we will:\n",
    "- [Explore the mathematical foundation of linear regression.](#the-mathematical-foundation-of-linear-regression)\n",
    "- [Derive the closed-form solution (also known as the normal equation).](#deriving-the-closed-form-equation)\n",
    "- [Implement linear regression from scratch using NumPy and Pandas.](#implementing-linear-regression-from-closed-form-equation)\n",
    "- [Evaluate the model's performance by implementing the metrics using only numpy and pandas.](#evaluating-the-models-performance)\n",
    "- [Drawbacks of the closed-form solution.](#drawbacks-of-the-closed-form-equation)"
   ]
  },
  {
   "cell_type": "markdown",
   "metadata": {},
   "source": [
    "## The Mathematical Foundation of Linear Regression\n",
    "\n",
    "As you probably already know, the goal of linear regression is to find the best-fitting straight line (or hyperplane in higher dimensions) that describes how the dependent variable changes as the independent variables change.\n",
    "\n",
    "In simple linear regression, we only have one independent variable, so the aim is to fit a straight line.\n",
    "\n",
    "The linear regression equation is given by the general equation of a straight line:\n",
    "\n",
    "$$ y = mx + c $$\n",
    "\n",
    "Where:\n",
    "- $ y $ is the dependent variable.\n",
    "- $ x $ is the independent variable.\n",
    "- $ m $ is the gradient.\n",
    "- $ c $ is the y-intercept.\n",
    "\n",
    "In Machine learning however, it is not so simplified because:\n",
    "\n",
    "- $ y $ is a vector of the *target variables* (the variable we want to predict).\n",
    "- $ X $ is the *feature matrix* (a matrix of all input features) - We can have one or more independent features.\n",
    "- $ m $ becomes $ \\beta $ (theta) which is the vector of model coefficients/weights for every independent feature.\n",
    "- $ c $ becomes $ \\epsilon $ which is the error term (noise).\n",
    "\n",
    "The linear regression equation therefore becomes:\n",
    "\n",
    "$$ y = \\beta X + \\epsilon $$\n",
    "\n",
    "The error term $ \\epsilon $ represents the portion of $ y $ that cannot be explained by the linear relationship with $ X $. It accounts for noise in the data, measurement errors, and unmodeled influences. \n",
    "\n",
    "To simplify the linear regression model, we introduce an intercept term $ \\beta_0 $ (bias), which shifts the regression line so it best fits the data. We rewrite the equation as:\n",
    "\n",
    "$$ y = \\beta_0 + \\beta_1 x_1 + \\beta_2 x_2 + \\dots + \\beta_d x_d + \\epsilon $$\n",
    "\n",
    "where:\n",
    "- $ \\beta_0 $ is the intercept term.\n",
    "- $ \\beta_1, \\beta_2, \\dots, \\beta_d $ are the coefficients of the independent variables.\n"
   ]
  },
  {
   "cell_type": "markdown",
   "metadata": {},
   "source": [
    "## Deriving The Closed Form Equation\n",
    "\n",
    "The whole idea of a <span style=\"color: blue;\">*best fit line*</span> is to minimize the errors between the predicted y-value (on the regression line) and the actual y-value for every value of x. This is how we measure the performance of a linear regression model. We calculate the absolute differences (residuals) between the predicted and the actual y-values and find the mean. This is called the **Mean Absolute Error (MAE)**. We also use the **Mean Squared Error (MSE)** which as the name implies is the mean of the square of the residuals.\n",
    "\n",
    "It would only make sense then that the lower our MAE or MSE, the better the performance of our model because this would mean that the differences between the predicted and actual values are lesser.\n",
    "\n",
    "In linear regression model, we aim to fit the line that minimizes this error in the best way possible. To do this, we have to find the best possible value or set of values for $ \\beta $ that minimizes this error.\n"
   ]
  },
  {
   "cell_type": "markdown",
   "metadata": {},
   "source": [
    "To estimate $ \\beta $, we minimize the Mean Squared Error (MSE) by differentiating with respect to $ \\beta $ and equating the derivative to 0:\n",
    "\n",
    "Recall, from the definition above,\n",
    "\n",
    "$$  MSE = \\frac{1}{n} \\sum_{i=1}^{n} (y_i - (\\hat{y_i}))^2  $$\n",
    "\n",
    "Where:\n",
    "- n = Number of data points\n",
    "- $ y_i $ = Actual y-values\n",
    "- $ \\hat{y_i} $ = Predicted y-values\n",
    "\n",
    "\n",
    "Since $ \\hat{y_i} = (\\beta_0 + \\beta_1 x_i) $\n",
    "\n",
    "$$  MSE = \\frac{1}{n} \\sum_{i=1}^{n} (y_i - (\\beta_0 + \\beta_1 x_i))^2  $$\n",
    "\n",
    "In matrix form, we define:\n",
    "- $ y $ as an $ n \\times 1 $ vector of observed values.\n",
    "- $ X $ as an $ n \\times (d+1) $ matrix where each row corresponds to a sample, with the first column being ones for the intercept.\n",
    "- $ \\beta $ as a $ (d+1) \\times 1 $ vector of coefficients.\n",
    "\n",
    "Transforming and expressing the MSE equation in matrix form, \n",
    "\n",
    "$$ \\text{MSE} = \\frac{1}{n} (y - X\\beta)^T (y - X\\beta) $$\n",
    "\n",
    "Expanding the MSE expression,\n",
    "\n",
    "$$ \\text{MSE} = \\frac{1}{n} \\left[ y^T y - y^T X\\beta - \\beta^T X^T y + \\beta^T X^T X \\beta \\right] $$\n",
    "\n",
    "Simplifying the expression, since $ y^T X\\beta $ and $ \\beta^T X^T y $ are scalars, they are equal:\n",
    "\n",
    "$$ \\text{MSE} = \\frac{1}{n} \\left[ y^T y - 2y^T X\\beta + \\beta^T X^T X \\beta \\right] $$\n",
    "\n",
    "Taking the derivative with respect to $ \\beta $,\n",
    "\n",
    "$$ \\frac{\\partial \\text{MSE}}{\\partial \\beta} = \\frac{1}{n} \\left[ -2X^T y + 2X^T X \\beta \\right] $$\n",
    "\n",
    "Setting the derivative to zero to find the minimum,\n",
    "\n",
    "$$ -2X^T y + 2X^T X \\beta = 0 $$\n",
    "\n",
    "Solving for $ \\beta $,\n",
    "\n",
    "$$ X^T X \\beta = X^T y $$\n",
    "\n",
    "$$ \\beta = (X^T X)^{-1} X^T y $$\n",
    "\n",
    "The closed-form solution for the linear regression coefficients $ \\beta $ is:\n",
    "\n",
    "$$ \\beta = (X^T X)^{-1} X^T y $$\n",
    "\n",
    "\n",
    "This is known as the **Normal Equation**.\n",
    "\n",
    "By minimizing the MSE, we derived the closed-form solution for the linear regression model. This solution allows us to find the optimal coefficients $ \\beta $ that best fit the data.\n",
    "\n",
    "This is the equation we will use to train the model in this project instead of the Scikit-Learn LinearRegression model."
   ]
  },
  {
   "cell_type": "markdown",
   "metadata": {},
   "source": [
    "## Implementing Linear Regression from Closed Form Equation\n",
    "\n",
    "We will now implement the Linear Regression on a dataset using the closed form equation we derived above."
   ]
  },
  {
   "cell_type": "markdown",
   "metadata": {},
   "source": [
    "Let's start by importing all the libraries we will use for this project"
   ]
  },
  {
   "cell_type": "code",
   "execution_count": 1,
   "metadata": {},
   "outputs": [],
   "source": [
    "# Import necessary libraries\n",
    "\n",
    "import numpy as np\n",
    "import pandas as pd\n",
    "import matplotlib.pyplot as plt"
   ]
  },
  {
   "cell_type": "markdown",
   "metadata": {},
   "source": [
    "#### Load the Dataset\n",
    "\n",
    "For this project, we will use the [Energy Consumption Dataset](https://www.kaggle.com/datasets/govindaramsriram/energy-consumption-dataset-linear-regression) from [kaggle](www.kaggle.com).\n",
    "\n",
    "\n",
    "This dataset is all about predicting how much energy buildings use based on different features and environmental factors. It includes information on various types of buildings, their square footage, the number of people inside, the appliances they use, the average temperature, and even the day of the week. The aim is to create a linear regression model that can estimate energy consumption using these details.\n",
    "\n",
    "**Data Dictionary:**\n",
    "- Building Type - The type of building (residential, commercial, etc,.)\n",
    "- Square Footage - The total size of the building in square foot\n",
    "- Number of Occupants - The number of people occupying the building\n",
    "- Appliances Used - The number of appliances used in the building\n",
    "- Average Temperature - The average temperature of the building or climate area (in Celsius)\n",
    "- Day of Week - Indicates whether the data point corresponds to a weekday or weekend\n",
    "- Energy Consumption - The energy consumption of the building in kWh (kilowatt-hours). *This is the target variable*\n",
    "\n",
    "\n",
    "The data set is originally split into two different files (train and test) , so we will load both files and merge it\n"
   ]
  },
  {
   "cell_type": "code",
   "execution_count": 2,
   "metadata": {},
   "outputs": [
    {
     "name": "stdout",
     "output_type": "stream",
     "text": [
      "Dataset URL: https://www.kaggle.com/datasets/govindaramsriram/energy-consumption-dataset-linear-regression\n"
     ]
    }
   ],
   "source": [
    "# For downloading datasets from Kaggle\n",
    "import kaggle\n",
    "\n",
    "# Download the dataset\n",
    "kaggle.api.dataset_download_files(\"govindaramsriram/energy-consumption-dataset-linear-regression\", path=\"./datasets/\", unzip=True)"
   ]
  },
  {
   "cell_type": "code",
   "execution_count": 3,
   "metadata": {},
   "outputs": [
    {
     "data": {
      "text/html": [
       "<div>\n",
       "<style scoped>\n",
       "    .dataframe tbody tr th:only-of-type {\n",
       "        vertical-align: middle;\n",
       "    }\n",
       "\n",
       "    .dataframe tbody tr th {\n",
       "        vertical-align: top;\n",
       "    }\n",
       "\n",
       "    .dataframe thead th {\n",
       "        text-align: right;\n",
       "    }\n",
       "</style>\n",
       "<table border=\"1\" class=\"dataframe\">\n",
       "  <thead>\n",
       "    <tr style=\"text-align: right;\">\n",
       "      <th></th>\n",
       "      <th>Building Type</th>\n",
       "      <th>Square Footage</th>\n",
       "      <th>Number of Occupants</th>\n",
       "      <th>Appliances Used</th>\n",
       "      <th>Average Temperature</th>\n",
       "      <th>Day of Week</th>\n",
       "      <th>Energy Consumption</th>\n",
       "    </tr>\n",
       "  </thead>\n",
       "  <tbody>\n",
       "    <tr>\n",
       "      <th>0</th>\n",
       "      <td>Residential</td>\n",
       "      <td>7063</td>\n",
       "      <td>76</td>\n",
       "      <td>10</td>\n",
       "      <td>29.84</td>\n",
       "      <td>Weekday</td>\n",
       "      <td>2713.95</td>\n",
       "    </tr>\n",
       "    <tr>\n",
       "      <th>1</th>\n",
       "      <td>Commercial</td>\n",
       "      <td>44372</td>\n",
       "      <td>66</td>\n",
       "      <td>45</td>\n",
       "      <td>16.72</td>\n",
       "      <td>Weekday</td>\n",
       "      <td>5744.99</td>\n",
       "    </tr>\n",
       "    <tr>\n",
       "      <th>2</th>\n",
       "      <td>Industrial</td>\n",
       "      <td>19255</td>\n",
       "      <td>37</td>\n",
       "      <td>17</td>\n",
       "      <td>14.30</td>\n",
       "      <td>Weekend</td>\n",
       "      <td>4101.24</td>\n",
       "    </tr>\n",
       "    <tr>\n",
       "      <th>3</th>\n",
       "      <td>Residential</td>\n",
       "      <td>13265</td>\n",
       "      <td>14</td>\n",
       "      <td>41</td>\n",
       "      <td>32.82</td>\n",
       "      <td>Weekday</td>\n",
       "      <td>3009.14</td>\n",
       "    </tr>\n",
       "    <tr>\n",
       "      <th>4</th>\n",
       "      <td>Commercial</td>\n",
       "      <td>13375</td>\n",
       "      <td>26</td>\n",
       "      <td>18</td>\n",
       "      <td>11.92</td>\n",
       "      <td>Weekday</td>\n",
       "      <td>3279.17</td>\n",
       "    </tr>\n",
       "  </tbody>\n",
       "</table>\n",
       "</div>"
      ],
      "text/plain": [
       "  Building Type  Square Footage  Number of Occupants  Appliances Used  \\\n",
       "0   Residential            7063                   76               10   \n",
       "1    Commercial           44372                   66               45   \n",
       "2    Industrial           19255                   37               17   \n",
       "3   Residential           13265                   14               41   \n",
       "4    Commercial           13375                   26               18   \n",
       "\n",
       "   Average Temperature Day of Week  Energy Consumption  \n",
       "0                29.84     Weekday             2713.95  \n",
       "1                16.72     Weekday             5744.99  \n",
       "2                14.30     Weekend             4101.24  \n",
       "3                32.82     Weekday             3009.14  \n",
       "4                11.92     Weekday             3279.17  "
      ]
     },
     "execution_count": 3,
     "metadata": {},
     "output_type": "execute_result"
    }
   ],
   "source": [
    "# Load train and test datasets\n",
    "df_train = pd.read_csv('./datasets/train_energy_data.csv')\n",
    "df_test = pd.read_csv('./datasets/test_energy_data.csv')\n",
    "\n",
    "# merge both datasets\n",
    "df = pd.concat([df_train, df_test], axis=0)\n",
    "\n",
    "# Preview the data\n",
    "df.head()"
   ]
  },
  {
   "cell_type": "markdown",
   "metadata": {},
   "source": [
    "### Explore the dataset"
   ]
  },
  {
   "cell_type": "markdown",
   "metadata": {},
   "source": [
    "Checking for nulll values ..."
   ]
  },
  {
   "cell_type": "code",
   "execution_count": 4,
   "metadata": {},
   "outputs": [
    {
     "name": "stdout",
     "output_type": "stream",
     "text": [
      "<class 'pandas.core.frame.DataFrame'>\n",
      "Index: 1100 entries, 0 to 99\n",
      "Data columns (total 7 columns):\n",
      " #   Column               Non-Null Count  Dtype  \n",
      "---  ------               --------------  -----  \n",
      " 0   Building Type        1100 non-null   object \n",
      " 1   Square Footage       1100 non-null   int64  \n",
      " 2   Number of Occupants  1100 non-null   int64  \n",
      " 3   Appliances Used      1100 non-null   int64  \n",
      " 4   Average Temperature  1100 non-null   float64\n",
      " 5   Day of Week          1100 non-null   object \n",
      " 6   Energy Consumption   1100 non-null   float64\n",
      "dtypes: float64(2), int64(3), object(2)\n",
      "memory usage: 68.8+ KB\n"
     ]
    }
   ],
   "source": [
    "df.info()"
   ]
  },
  {
   "cell_type": "markdown",
   "metadata": {},
   "source": [
    "<span style=\"color: green;\">**&#10003;**</span>   The dataset contains no null values.\n",
    "\n",
    "Inspecting the summary statisticts of the numerical columns ..."
   ]
  },
  {
   "cell_type": "code",
   "execution_count": 5,
   "metadata": {},
   "outputs": [
    {
     "data": {
      "text/html": [
       "<div>\n",
       "<style scoped>\n",
       "    .dataframe tbody tr th:only-of-type {\n",
       "        vertical-align: middle;\n",
       "    }\n",
       "\n",
       "    .dataframe tbody tr th {\n",
       "        vertical-align: top;\n",
       "    }\n",
       "\n",
       "    .dataframe thead th {\n",
       "        text-align: right;\n",
       "    }\n",
       "</style>\n",
       "<table border=\"1\" class=\"dataframe\">\n",
       "  <thead>\n",
       "    <tr style=\"text-align: right;\">\n",
       "      <th></th>\n",
       "      <th>Square Footage</th>\n",
       "      <th>Number of Occupants</th>\n",
       "      <th>Appliances Used</th>\n",
       "      <th>Average Temperature</th>\n",
       "      <th>Energy Consumption</th>\n",
       "    </tr>\n",
       "  </thead>\n",
       "  <tbody>\n",
       "    <tr>\n",
       "      <th>count</th>\n",
       "      <td>1100.000000</td>\n",
       "      <td>1100.000000</td>\n",
       "      <td>1100.000000</td>\n",
       "      <td>1100.000000</td>\n",
       "      <td>1100.000000</td>\n",
       "    </tr>\n",
       "    <tr>\n",
       "      <th>mean</th>\n",
       "      <td>25500.527273</td>\n",
       "      <td>48.268182</td>\n",
       "      <td>25.730000</td>\n",
       "      <td>22.559745</td>\n",
       "      <td>4168.191273</td>\n",
       "    </tr>\n",
       "    <tr>\n",
       "      <th>std</th>\n",
       "      <td>14236.955632</td>\n",
       "      <td>29.127624</td>\n",
       "      <td>14.116209</td>\n",
       "      <td>7.122357</td>\n",
       "      <td>924.278723</td>\n",
       "    </tr>\n",
       "    <tr>\n",
       "      <th>min</th>\n",
       "      <td>560.000000</td>\n",
       "      <td>1.000000</td>\n",
       "      <td>1.000000</td>\n",
       "      <td>10.050000</td>\n",
       "      <td>1683.950000</td>\n",
       "    </tr>\n",
       "    <tr>\n",
       "      <th>25%</th>\n",
       "      <td>13203.750000</td>\n",
       "      <td>22.000000</td>\n",
       "      <td>13.000000</td>\n",
       "      <td>16.365000</td>\n",
       "      <td>3510.460000</td>\n",
       "    </tr>\n",
       "    <tr>\n",
       "      <th>50%</th>\n",
       "      <td>25785.500000</td>\n",
       "      <td>47.000000</td>\n",
       "      <td>26.000000</td>\n",
       "      <td>22.810000</td>\n",
       "      <td>4189.690000</td>\n",
       "    </tr>\n",
       "    <tr>\n",
       "      <th>75%</th>\n",
       "      <td>37536.750000</td>\n",
       "      <td>73.000000</td>\n",
       "      <td>38.000000</td>\n",
       "      <td>28.760000</td>\n",
       "      <td>4859.510000</td>\n",
       "    </tr>\n",
       "    <tr>\n",
       "      <th>max</th>\n",
       "      <td>49997.000000</td>\n",
       "      <td>99.000000</td>\n",
       "      <td>49.000000</td>\n",
       "      <td>34.990000</td>\n",
       "      <td>6530.600000</td>\n",
       "    </tr>\n",
       "  </tbody>\n",
       "</table>\n",
       "</div>"
      ],
      "text/plain": [
       "       Square Footage  Number of Occupants  Appliances Used  \\\n",
       "count     1100.000000          1100.000000      1100.000000   \n",
       "mean     25500.527273            48.268182        25.730000   \n",
       "std      14236.955632            29.127624        14.116209   \n",
       "min        560.000000             1.000000         1.000000   \n",
       "25%      13203.750000            22.000000        13.000000   \n",
       "50%      25785.500000            47.000000        26.000000   \n",
       "75%      37536.750000            73.000000        38.000000   \n",
       "max      49997.000000            99.000000        49.000000   \n",
       "\n",
       "       Average Temperature  Energy Consumption  \n",
       "count          1100.000000         1100.000000  \n",
       "mean             22.559745         4168.191273  \n",
       "std               7.122357          924.278723  \n",
       "min              10.050000         1683.950000  \n",
       "25%              16.365000         3510.460000  \n",
       "50%              22.810000         4189.690000  \n",
       "75%              28.760000         4859.510000  \n",
       "max              34.990000         6530.600000  "
      ]
     },
     "execution_count": 5,
     "metadata": {},
     "output_type": "execute_result"
    }
   ],
   "source": [
    "df.describe()"
   ]
  },
  {
   "cell_type": "markdown",
   "metadata": {},
   "source": [
    "<span style=\"color: green;\">**&#10003;**</span>   The quantiles, seem to be evenly spaced around the median which is mostly close to the mean in all features. This means there are no unnecessary outliers\n",
    "\n",
    "We can use the standard scaling technique to scale the values.\n",
    "\n",
    "\n",
    "Inspecting the number of observations per categorical column ..."
   ]
  },
  {
   "cell_type": "code",
   "execution_count": 6,
   "metadata": {},
   "outputs": [
    {
     "name": "stdout",
     "output_type": "stream",
     "text": [
      "Building Type: ['Residential' 'Commercial' 'Industrial']\n",
      "Day of Week: ['Weekday' 'Weekend']\n"
     ]
    }
   ],
   "source": [
    "# Check unique values in each categorical column\n",
    "\n",
    "for col in df.select_dtypes(include='object').columns:\n",
    "    print(f\"{col}: {df[col].unique()}\")"
   ]
  },
  {
   "cell_type": "markdown",
   "metadata": {},
   "source": [
    "Modify column names for uniformity and to avoid errors (replace spaces with underscores and unify case)"
   ]
  },
  {
   "cell_type": "code",
   "execution_count": 7,
   "metadata": {},
   "outputs": [
    {
     "data": {
      "text/html": [
       "<div>\n",
       "<style scoped>\n",
       "    .dataframe tbody tr th:only-of-type {\n",
       "        vertical-align: middle;\n",
       "    }\n",
       "\n",
       "    .dataframe tbody tr th {\n",
       "        vertical-align: top;\n",
       "    }\n",
       "\n",
       "    .dataframe thead th {\n",
       "        text-align: right;\n",
       "    }\n",
       "</style>\n",
       "<table border=\"1\" class=\"dataframe\">\n",
       "  <thead>\n",
       "    <tr style=\"text-align: right;\">\n",
       "      <th></th>\n",
       "      <th>building_type</th>\n",
       "      <th>square_footage</th>\n",
       "      <th>number_of_occupants</th>\n",
       "      <th>appliances_used</th>\n",
       "      <th>average_temperature</th>\n",
       "      <th>day_of_week</th>\n",
       "      <th>energy_consumption</th>\n",
       "    </tr>\n",
       "  </thead>\n",
       "  <tbody>\n",
       "    <tr>\n",
       "      <th>0</th>\n",
       "      <td>Residential</td>\n",
       "      <td>7063</td>\n",
       "      <td>76</td>\n",
       "      <td>10</td>\n",
       "      <td>29.84</td>\n",
       "      <td>Weekday</td>\n",
       "      <td>2713.95</td>\n",
       "    </tr>\n",
       "    <tr>\n",
       "      <th>1</th>\n",
       "      <td>Commercial</td>\n",
       "      <td>44372</td>\n",
       "      <td>66</td>\n",
       "      <td>45</td>\n",
       "      <td>16.72</td>\n",
       "      <td>Weekday</td>\n",
       "      <td>5744.99</td>\n",
       "    </tr>\n",
       "    <tr>\n",
       "      <th>2</th>\n",
       "      <td>Industrial</td>\n",
       "      <td>19255</td>\n",
       "      <td>37</td>\n",
       "      <td>17</td>\n",
       "      <td>14.30</td>\n",
       "      <td>Weekend</td>\n",
       "      <td>4101.24</td>\n",
       "    </tr>\n",
       "    <tr>\n",
       "      <th>3</th>\n",
       "      <td>Residential</td>\n",
       "      <td>13265</td>\n",
       "      <td>14</td>\n",
       "      <td>41</td>\n",
       "      <td>32.82</td>\n",
       "      <td>Weekday</td>\n",
       "      <td>3009.14</td>\n",
       "    </tr>\n",
       "    <tr>\n",
       "      <th>4</th>\n",
       "      <td>Commercial</td>\n",
       "      <td>13375</td>\n",
       "      <td>26</td>\n",
       "      <td>18</td>\n",
       "      <td>11.92</td>\n",
       "      <td>Weekday</td>\n",
       "      <td>3279.17</td>\n",
       "    </tr>\n",
       "  </tbody>\n",
       "</table>\n",
       "</div>"
      ],
      "text/plain": [
       "  building_type  square_footage  number_of_occupants  appliances_used  \\\n",
       "0   Residential            7063                   76               10   \n",
       "1    Commercial           44372                   66               45   \n",
       "2    Industrial           19255                   37               17   \n",
       "3   Residential           13265                   14               41   \n",
       "4    Commercial           13375                   26               18   \n",
       "\n",
       "   average_temperature day_of_week  energy_consumption  \n",
       "0                29.84     Weekday             2713.95  \n",
       "1                16.72     Weekday             5744.99  \n",
       "2                14.30     Weekend             4101.24  \n",
       "3                32.82     Weekday             3009.14  \n",
       "4                11.92     Weekday             3279.17  "
      ]
     },
     "execution_count": 7,
     "metadata": {},
     "output_type": "execute_result"
    }
   ],
   "source": [
    "new_cols = ['building_type', 'square_footage', 'number_of_occupants', 'appliances_used', 'average_temperature', 'day_of_week', 'energy_consumption']\n",
    "\n",
    "df.columns = new_cols\n",
    "\n",
    "df.head()"
   ]
  },
  {
   "cell_type": "markdown",
   "metadata": {},
   "source": [
    "### Data Pre-Processing\n",
    "\n",
    "Since the data is already clean, in order to get this dataset ready for the model, we just have to make sure the data is in the right format.\n",
    "\n",
    "We will perform the following pre-processing operations:\n",
    "- Scaling: to ensure fairness so that the model does not disproportionately assign weight to some features just because they generally have higher values\n",
    "- Encoding: to convert categorical values to numerical values because linear regression using the the closed form will only accept numerical values (because of the matrix operations)\n",
    "- Split the data in Training and Testing sets\n",
    "\n",
    "***Note: All these operations will be performed using Numpy and Pandas (No Scikit-Learn)***"
   ]
  },
  {
   "cell_type": "markdown",
   "metadata": {},
   "source": [
    "##### Encoding: Using `pd.get_dummies()`"
   ]
  },
  {
   "cell_type": "code",
   "execution_count": 8,
   "metadata": {},
   "outputs": [
    {
     "data": {
      "text/html": [
       "<div>\n",
       "<style scoped>\n",
       "    .dataframe tbody tr th:only-of-type {\n",
       "        vertical-align: middle;\n",
       "    }\n",
       "\n",
       "    .dataframe tbody tr th {\n",
       "        vertical-align: top;\n",
       "    }\n",
       "\n",
       "    .dataframe thead th {\n",
       "        text-align: right;\n",
       "    }\n",
       "</style>\n",
       "<table border=\"1\" class=\"dataframe\">\n",
       "  <thead>\n",
       "    <tr style=\"text-align: right;\">\n",
       "      <th></th>\n",
       "      <th>square_footage</th>\n",
       "      <th>number_of_occupants</th>\n",
       "      <th>appliances_used</th>\n",
       "      <th>average_temperature</th>\n",
       "      <th>energy_consumption</th>\n",
       "      <th>building_type_Industrial</th>\n",
       "      <th>building_type_Residential</th>\n",
       "      <th>day_of_week_Weekend</th>\n",
       "    </tr>\n",
       "  </thead>\n",
       "  <tbody>\n",
       "    <tr>\n",
       "      <th>0</th>\n",
       "      <td>7063</td>\n",
       "      <td>76</td>\n",
       "      <td>10</td>\n",
       "      <td>29.84</td>\n",
       "      <td>2713.95</td>\n",
       "      <td>0</td>\n",
       "      <td>1</td>\n",
       "      <td>0</td>\n",
       "    </tr>\n",
       "    <tr>\n",
       "      <th>1</th>\n",
       "      <td>44372</td>\n",
       "      <td>66</td>\n",
       "      <td>45</td>\n",
       "      <td>16.72</td>\n",
       "      <td>5744.99</td>\n",
       "      <td>0</td>\n",
       "      <td>0</td>\n",
       "      <td>0</td>\n",
       "    </tr>\n",
       "    <tr>\n",
       "      <th>2</th>\n",
       "      <td>19255</td>\n",
       "      <td>37</td>\n",
       "      <td>17</td>\n",
       "      <td>14.30</td>\n",
       "      <td>4101.24</td>\n",
       "      <td>1</td>\n",
       "      <td>0</td>\n",
       "      <td>1</td>\n",
       "    </tr>\n",
       "    <tr>\n",
       "      <th>3</th>\n",
       "      <td>13265</td>\n",
       "      <td>14</td>\n",
       "      <td>41</td>\n",
       "      <td>32.82</td>\n",
       "      <td>3009.14</td>\n",
       "      <td>0</td>\n",
       "      <td>1</td>\n",
       "      <td>0</td>\n",
       "    </tr>\n",
       "    <tr>\n",
       "      <th>4</th>\n",
       "      <td>13375</td>\n",
       "      <td>26</td>\n",
       "      <td>18</td>\n",
       "      <td>11.92</td>\n",
       "      <td>3279.17</td>\n",
       "      <td>0</td>\n",
       "      <td>0</td>\n",
       "      <td>0</td>\n",
       "    </tr>\n",
       "  </tbody>\n",
       "</table>\n",
       "</div>"
      ],
      "text/plain": [
       "   square_footage  number_of_occupants  appliances_used  average_temperature  \\\n",
       "0            7063                   76               10                29.84   \n",
       "1           44372                   66               45                16.72   \n",
       "2           19255                   37               17                14.30   \n",
       "3           13265                   14               41                32.82   \n",
       "4           13375                   26               18                11.92   \n",
       "\n",
       "   energy_consumption  building_type_Industrial  building_type_Residential  \\\n",
       "0             2713.95                         0                          1   \n",
       "1             5744.99                         0                          0   \n",
       "2             4101.24                         1                          0   \n",
       "3             3009.14                         0                          1   \n",
       "4             3279.17                         0                          0   \n",
       "\n",
       "   day_of_week_Weekend  \n",
       "0                    0  \n",
       "1                    0  \n",
       "2                    1  \n",
       "3                    0  \n",
       "4                    0  "
      ]
     },
     "execution_count": 8,
     "metadata": {},
     "output_type": "execute_result"
    }
   ],
   "source": [
    "# Encoding for `building_type` column\n",
    "df = pd.get_dummies(df, columns=['building_type'], drop_first=True)\n",
    "\n",
    "# Encoding for `day_of week` column\n",
    "df = pd.get_dummies(df, columns=['day_of_week'], drop_first=True)\n",
    "\n",
    "# convert to integer\n",
    "df[['building_type_Industrial', 'building_type_Residential', 'day_of_week_Weekend']] = df[['building_type_Industrial', 'building_type_Residential', 'day_of_week_Weekend']].astype(int)\n",
    "\n",
    "df.head()"
   ]
  },
  {
   "cell_type": "markdown",
   "metadata": {},
   "source": [
    "##### Scaling: Using Standard Scaling Method"
   ]
  },
  {
   "cell_type": "code",
   "execution_count": 9,
   "metadata": {},
   "outputs": [],
   "source": [
    "X = df.drop(columns=['energy_consumption'])\n",
    "y = df['energy_consumption']"
   ]
  },
  {
   "cell_type": "code",
   "execution_count": 10,
   "metadata": {},
   "outputs": [
    {
     "data": {
      "text/html": [
       "<div>\n",
       "<style scoped>\n",
       "    .dataframe tbody tr th:only-of-type {\n",
       "        vertical-align: middle;\n",
       "    }\n",
       "\n",
       "    .dataframe tbody tr th {\n",
       "        vertical-align: top;\n",
       "    }\n",
       "\n",
       "    .dataframe thead th {\n",
       "        text-align: right;\n",
       "    }\n",
       "</style>\n",
       "<table border=\"1\" class=\"dataframe\">\n",
       "  <thead>\n",
       "    <tr style=\"text-align: right;\">\n",
       "      <th></th>\n",
       "      <th>square_footage</th>\n",
       "      <th>number_of_occupants</th>\n",
       "      <th>appliances_used</th>\n",
       "      <th>average_temperature</th>\n",
       "      <th>building_type_Industrial</th>\n",
       "      <th>building_type_Residential</th>\n",
       "      <th>day_of_week_Weekend</th>\n",
       "    </tr>\n",
       "  </thead>\n",
       "  <tbody>\n",
       "    <tr>\n",
       "      <th>0</th>\n",
       "      <td>-1.295047</td>\n",
       "      <td>0.952080</td>\n",
       "      <td>-1.114322</td>\n",
       "      <td>1.022169</td>\n",
       "      <td>-0.684251</td>\n",
       "      <td>1.356725</td>\n",
       "      <td>-0.997730</td>\n",
       "    </tr>\n",
       "    <tr>\n",
       "      <th>1</th>\n",
       "      <td>1.325527</td>\n",
       "      <td>0.608763</td>\n",
       "      <td>1.365097</td>\n",
       "      <td>-0.819918</td>\n",
       "      <td>-0.684251</td>\n",
       "      <td>-0.736399</td>\n",
       "      <td>-0.997730</td>\n",
       "    </tr>\n",
       "    <tr>\n",
       "      <th>2</th>\n",
       "      <td>-0.438684</td>\n",
       "      <td>-0.386856</td>\n",
       "      <td>-0.618438</td>\n",
       "      <td>-1.159693</td>\n",
       "      <td>1.460124</td>\n",
       "      <td>-0.736399</td>\n",
       "      <td>1.001364</td>\n",
       "    </tr>\n",
       "    <tr>\n",
       "      <th>3</th>\n",
       "      <td>-0.859420</td>\n",
       "      <td>-1.176484</td>\n",
       "      <td>1.081735</td>\n",
       "      <td>1.440570</td>\n",
       "      <td>-0.684251</td>\n",
       "      <td>1.356725</td>\n",
       "      <td>-0.997730</td>\n",
       "    </tr>\n",
       "    <tr>\n",
       "      <th>4</th>\n",
       "      <td>-0.851694</td>\n",
       "      <td>-0.764504</td>\n",
       "      <td>-0.547597</td>\n",
       "      <td>-1.493852</td>\n",
       "      <td>-0.684251</td>\n",
       "      <td>-0.736399</td>\n",
       "      <td>-0.997730</td>\n",
       "    </tr>\n",
       "  </tbody>\n",
       "</table>\n",
       "</div>"
      ],
      "text/plain": [
       "   square_footage  number_of_occupants  appliances_used  average_temperature  \\\n",
       "0       -1.295047             0.952080        -1.114322             1.022169   \n",
       "1        1.325527             0.608763         1.365097            -0.819918   \n",
       "2       -0.438684            -0.386856        -0.618438            -1.159693   \n",
       "3       -0.859420            -1.176484         1.081735             1.440570   \n",
       "4       -0.851694            -0.764504        -0.547597            -1.493852   \n",
       "\n",
       "   building_type_Industrial  building_type_Residential  day_of_week_Weekend  \n",
       "0                 -0.684251                   1.356725            -0.997730  \n",
       "1                 -0.684251                  -0.736399            -0.997730  \n",
       "2                  1.460124                  -0.736399             1.001364  \n",
       "3                 -0.684251                   1.356725            -0.997730  \n",
       "4                 -0.684251                  -0.736399            -0.997730  "
      ]
     },
     "execution_count": 10,
     "metadata": {},
     "output_type": "execute_result"
    }
   ],
   "source": [
    "# Perform scaling for all numerical columns\n",
    "\n",
    "num_cols = X.select_dtypes(include='number').columns\n",
    "\n",
    "for col in num_cols:\n",
    "    X[col] = (X[col] - X[col].mean()) / X[col].std()\n",
    "\n",
    "# Preview the data\n",
    "X.head()"
   ]
  },
  {
   "cell_type": "markdown",
   "metadata": {},
   "source": [
    "### Implementing the Model"
   ]
  },
  {
   "cell_type": "markdown",
   "metadata": {},
   "source": [
    "Now that we have preprocessed the data, we will implement the Linear Regression model using the closed-form equation"
   ]
  },
  {
   "cell_type": "code",
   "execution_count": 11,
   "metadata": {},
   "outputs": [],
   "source": [
    "# Split the data into train and test sets\n",
    "\n",
    "# Get index for splitting the data 80% train\n",
    "train_split_index = int(0.8 * len(df))\n",
    "\n",
    "# Split data into train and test\n",
    "train_data_X = X.iloc[:train_split_index]\n",
    "test_data_X = X.iloc[train_split_index:]\n",
    "\n",
    "train_data_y = y.iloc[:train_split_index]\n",
    "test_data_y = y.iloc[train_split_index:]\n",
    "\n",
    "\n",
    "# Get X and Y values of the test and train models\n",
    "X_train = train_data_X[X.columns]\n",
    "y_train = train_data_y.values\n",
    "X_test = test_data_X[X.columns]\n",
    "y_test = test_data_y.values"
   ]
  },
  {
   "cell_type": "markdown",
   "metadata": {},
   "source": [
    "**Implement the closed-form solution to linear regression:**\n",
    "$\n",
    "\\begin{equation}\n",
    "\\beta = (X^T X)^{-1} X^T y\n",
    "\\end{equation}\n",
    "$\n",
    "* a. Where $ \\beta $ is the vector of weights (including the bias (𝑏)), 𝑋 is the feature matrix with a column of ones added to represent the intercept, and 𝑦 is the vector of target values.\n",
    "* b. Use your implementation to compute the coefficients for your linear regression model on the training dataset split."
   ]
  },
  {
   "cell_type": "code",
   "execution_count": 12,
   "metadata": {},
   "outputs": [
    {
     "data": {
      "text/plain": [
       "((880, 7), (880,), (220, 7), (220,))"
      ]
     },
     "execution_count": 12,
     "metadata": {},
     "output_type": "execute_result"
    }
   ],
   "source": [
    "X_train.shape, y_train.shape, X_test.shape, y_test.shape"
   ]
  },
  {
   "cell_type": "code",
   "execution_count": 14,
   "metadata": {},
   "outputs": [],
   "source": [
    "# Add a column of ones to X_train for the bias term\n",
    "X_train = np.c_[np.ones(X_train.shape[0]), X_train]\n",
    "X_test = np.c_[np.ones(X_test.shape[0]), X_test]\n",
    "\n",
    "# Compute different parts of closed form Solution\n",
    "XTX_inv = np.linalg.inv(X_train.T @ X_train)\n",
    "XTy = X_train.T @ y_train\n",
    "\n",
    "# Compute Theta (Coefficients)\n",
    "coefficients = XTX_inv @ XTy"
   ]
  },
  {
   "cell_type": "markdown",
   "metadata": {},
   "source": [
    "**Printing the learned coefficients (weights) of the model.**"
   ]
  },
  {
   "cell_type": "code",
   "execution_count": 15,
   "metadata": {},
   "outputs": [
    {
     "name": "stdout",
     "output_type": "stream",
     "text": [
      "intercept : 4168.191390734602\n",
      "square_footage : 711.8474075727273\n",
      "number_of_occupants : 291.276209188346\n",
      "appliances_used : 282.324251173425\n",
      "average_temperature : -35.61210470642426\n",
      "building_type_Industrial : 233.1683008733712\n",
      "building_type_Residential : -238.8776550204007\n",
      "day_of_week_Weekend : -25.011398286890056\n"
     ]
    }
   ],
   "source": [
    "features_intercept_list = ['intercept'] + list(df.columns.drop('energy_consumption'))\n",
    "\n",
    "# Print the computed coefficients\n",
    "for feature, weight in zip(features_intercept_list, coefficients):\n",
    "    print(f'{feature} : {weight}')"
   ]
  },
  {
   "cell_type": "markdown",
   "metadata": {},
   "source": [
    "## Evaluating the model's performance"
   ]
  },
  {
   "cell_type": "markdown",
   "metadata": {},
   "source": [
    "#### Utilize the learned coefficients to generate predictions on the test dataset split, where:\n",
    "$\n",
    "\\begin{equation}\n",
    "\\hat{y} = X\\theta\n",
    "\\end{equation}\n",
    "$"
   ]
  },
  {
   "cell_type": "code",
   "execution_count": 16,
   "metadata": {},
   "outputs": [
    {
     "data": {
      "text/plain": [
       "array([2924.84992404, 2495.95032149, 4873.00038804, 5088.20019472,\n",
       "       5518.15034471, 3542.20047749, 3372.40042206, 4895.60064123,\n",
       "       3771.10044665, 1915.34997022])"
      ]
     },
     "execution_count": 16,
     "metadata": {},
     "output_type": "execute_result"
    }
   ],
   "source": [
    "# Compute y_pred using the equation\n",
    "y_pred = X_test @ coefficients\n",
    "\n",
    "# Preview y_pred\n",
    "y_pred[:10]"
   ]
  },
  {
   "cell_type": "markdown",
   "metadata": {},
   "source": [
    "We will apply the following evaluation metrics using NumPy functions only:\n",
    "* a. Mean Absolute Error (MAE)\n",
    "* b. Mean Squared Error (MSE)"
   ]
  },
  {
   "cell_type": "markdown",
   "metadata": {},
   "source": [
    "**Mean Absolute Error (MAE)**"
   ]
  },
  {
   "cell_type": "code",
   "execution_count": 17,
   "metadata": {},
   "outputs": [
    {
     "data": {
      "text/plain": [
       "np.float64(0.011712122589022494)"
      ]
     },
     "execution_count": 17,
     "metadata": {},
     "output_type": "execute_result"
    }
   ],
   "source": [
    "# Calculate MAE\n",
    "mae = np.mean(np.abs(y_test - y_pred))\n",
    "mae"
   ]
  },
  {
   "cell_type": "markdown",
   "metadata": {},
   "source": [
    "**Mean Squared Error (MSE)**"
   ]
  },
  {
   "cell_type": "code",
   "execution_count": 18,
   "metadata": {},
   "outputs": [
    {
     "data": {
      "text/plain": [
       "np.float64(0.00018989334638738073)"
      ]
     },
     "execution_count": 18,
     "metadata": {},
     "output_type": "execute_result"
    }
   ],
   "source": [
    "# Calculate MSE\n",
    "mse = np.mean((y_test - y_pred)**2)\n",
    "mse"
   ]
  },
  {
   "cell_type": "markdown",
   "metadata": {},
   "source": [
    "These low values indicate that the model is making very accurate predictions, with average prediction errors close to zero. The small MSE also means that large errors are rare.\n",
    "\n",
    "In short: The model is performing very well. 🎯👏\n",
    "\n",
    "Niow, we'll calculate R² (coefficient of determination)."
   ]
  },
  {
   "cell_type": "markdown",
   "metadata": {},
   "source": [
    "**R² (Coefficient of Determination)**"
   ]
  },
  {
   "cell_type": "code",
   "execution_count": 20,
   "metadata": {},
   "outputs": [
    {
     "data": {
      "text/plain": [
       "np.float64(0.9999999997701359)"
      ]
     },
     "execution_count": 20,
     "metadata": {},
     "output_type": "execute_result"
    }
   ],
   "source": [
    "# Calculate R²\n",
    "ss_res = np.sum((y_test - y_pred)**2)                         # Residual Sum of Squares\n",
    "ss_tot = np.sum((y_test - np.mean(y_test))**2)                # Total Sum of Squares\n",
    "r2_score = 1 - (ss_res / ss_tot)\n",
    "\n",
    "r2_score"
   ]
  },
  {
   "cell_type": "markdown",
   "metadata": {},
   "source": [
    "The R² score is ~0.999999997, which is extremely close to 1.\n",
    "\n",
    "This means that the model explains almost 100% of the variance in the target variable.\n",
    "\n",
    "The predictions are highly accurate, with almost negligible error.\n",
    "\n",
    "It's an excellent fit, suggesting that the closed-form linear regression model is performed exceptionally well."
   ]
  },
  {
   "cell_type": "markdown",
   "metadata": {},
   "source": [
    "## Drawbacks of the Closed-Form Equation"
   ]
  },
  {
   "cell_type": "markdown",
   "metadata": {},
   "source": [
    "While the closed-form solution (also known as the normal equation) provides an exact answer to the linear regression problem, it comes with several important drawbacks that make it less ideal in many real-world scenarios:\n",
    "\n",
    "**1. Poor Scalability with Large Datasets:**\n",
    "\n",
    "The closed-form approach involves computing the inverse of $ X^T X $, which has a time complexity of O(n³) (where n is the number of features). This becomes computationally expensive and inefficient as the dataset grows, making it unsuitable for high-dimensional or large-scale data.\n",
    "\n",
    "**2. Inversion Issues with Singular Matrices:**\n",
    "\n",
    "If $ X^T X $ is singular or nearly singular—often caused by multicollinearity (highly correlated features) or having more features than samples—the matrix cannot be inverted, causing the closed-form solution to break down.\n",
    "\n",
    "**3. No Built-in Regularization:**\n",
    "\n",
    "Unlike techniques such as Ridge or Lasso regression, the closed-form method does not include any form of regularization. As a result, it may overfit the training data, leading to poor performance on unseen data.\n",
    "\n",
    "**4. Memory Intensive:**\n",
    "\n",
    "The process of calculating and storing large matrices, especially for datasets with many features, can be very memory-demanding. On typical machines, this could lead to slow performance or memory errors.\n",
    "\n",
    "**5. Numerical Instability:**\n",
    "\n",
    "Computing the inverse of a matrix can introduce floating-point precision errors, particularly if the matrix is ill-conditioned. This can result in unreliable or unstable predictions."
   ]
  }
 ],
 "metadata": {
  "kernelspec": {
   "display_name": "CSCN8010_classic_ml",
   "language": "python",
   "name": "python3"
  },
  "language_info": {
   "codemirror_mode": {
    "name": "ipython",
    "version": 3
   },
   "file_extension": ".py",
   "mimetype": "text/x-python",
   "name": "python",
   "nbconvert_exporter": "python",
   "pygments_lexer": "ipython3",
   "version": "3.12.8"
  }
 },
 "nbformat": 4,
 "nbformat_minor": 2
}
